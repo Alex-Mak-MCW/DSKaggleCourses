{
 "cells": [
  {
   "attachments": {},
   "cell_type": "markdown",
   "metadata": {},
   "source": [
    "# Chapter 1: intro\n",
    "\n",
    "1. Make sure you know the basics\n",
    "2. train_test split\n",
    "3. using ML models, make predictions\n",
    "4. find the model with the least error"
   ]
  },
  {
   "attachments": {},
   "cell_type": "markdown",
   "metadata": {},
   "source": [
    "# Chapter 2: Ways to handle Missing Values\n",
    "1. drop columns\n",
    "2. imputation (filling), can add an extra column to identify filling\n",
    "\n",
    "\n",
    "# Exercise 1.\n",
    "1. Find ONLY missing column\n",
    "\n",
    "missing_val_count_by_column = (X_train.isnull().sum())\n",
    "miss_cols=missing_val_count_by_column[missing_val_count_by_column > 0]\n",
    "\n",
    "2. Get index of the missing columns\n",
    "miss_cols=miss_cols.index.tolist()\n",
    "\n",
    "3. Imputation (use imputer, only good at numerical data, fit transform for training, transform for valid)\n",
    "\n",
    "imputer=SimpleImputer(strategy='mean'/'median')\n",
    "\n",
    "imputed_X_train = pd.DataFrame(imputer.fit_transform(X_train))\n",
    "\n",
    "imputed_X_valid = pd.DataFrame(imputer.transform(X_valid))\n",
    "\n",
    "// put back columns to test accuracy\n",
    "\n",
    "imputed_X_train.columns = X_train.columns\n",
    "\n",
    "imputed_X_valid.columns = X_valid.columns\n",
    "\n",
    "4. Preprocess data: creating a dataframe with no missing values\n",
    "\n"
   ]
  },
  {
   "attachments": {},
   "cell_type": "markdown",
   "metadata": {},
   "source": [
    "# Chapter 2: Ways to handle categorical (nominal) variables\n",
    "\n",
    "1. Drop them, ordinal encoding (assigning each unique value to a different integer)\n",
    "2. One-hot encoding (create new columns with 0 and 1 to show yes or no of something)\n",
    "3. One-hot encoding > ordinal encoding > drop them\n",
    "\n"
   ]
  }
 ],
 "metadata": {
  "language_info": {
   "name": "python"
  },
  "orig_nbformat": 4
 },
 "nbformat": 4,
 "nbformat_minor": 2
}
