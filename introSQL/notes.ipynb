{
 "cells": [
  {
   "attachments": {},
   "cell_type": "markdown",
   "metadata": {},
   "source": [
    "# Intro SQL with BigQuery\n",
    "\n",
    "## Intro notes:\n",
    "1. BigQuery data structure: client [project[dataset[tables]]]\n",
    "\n",
    "## Steps on apply BigQuery (load data)\n",
    "### import it\n",
    "1. from google.cloud import bigquery\n",
    "### Create a client object\n",
    "2. client = bigquery.Client()\n",
    "### Buidling a dataset referencethat referenced from the client, set the project\n",
    "3. dataset_ref=client.dataset(\"datasetName\", project=\"projectname\")\n",
    "### fetch the dataset from its reference\n",
    "4. dataset = client.get_dataset(dataset_ref)\n",
    "### List all the tables in the \"hacker_news\" dataset\n",
    "5. tables = list(client.list_tables(dataset))\n",
    "### Construct a reference to ONE table\n",
    "6. table_ref = dataset_ref.table(\"tableName\")\n",
    "### API request - fetch the table\n",
    "7. table = client.get_table(table_ref)\n",
    "### access a table's schema\n",
    "8. print(table.schema)\n",
    "\n",
    "## SQL Functions\n",
    "1. INTRO SQL (SELECT ... FROM ... WHERE...)\n",
    "2. Aggregate functions used in SELECT: COUNT(), SUM(), AVG(), MIN(), and MAX()\n",
    "3. GROUP BY: after using aggregate functions\n",
    "4. GROUP BY ... Having: add condition on group by results\n",
    "5. Aliasing: select X as y\n",
    "6. ORDER BY: sorting (use EXTRACT to take part of a data from datetime object)\n",
    "7. ex. SELECT EXTRACT(DAY/WEEK from Date)\n",
    "8. HAVING is just like WHERE, but only applies to groups (GROUP BY)\n",
    "9. Common Table Expression (CTE): temporary table that you return within your query\n",
    "10. WITH ... AS ... (nested query)\n",
    "11. JOIN (FROM A_TABLE AS a INNER JOIN B_TABLE AS b ON a.x=b.y)\n",
    "\n",
    "\n",
    "## Steps to query data from BigQuery\n",
    "### Create a query\n",
    "query=\"\"\"SELECT ... FROM ... WHERE...\"\"\"\n",
    "### Create a \"Client\" object\n",
    "2. client = bigquery.Client()\n",
    "### Setup query\n",
    "3. query_job = client.query(query)\n",
    "### run the API request and convert query data to dataframe\n",
    "4. variable = query_job.to_dataframe()\n",
    "\n"
   ]
  }
 ],
 "metadata": {
  "language_info": {
   "name": "python"
  },
  "orig_nbformat": 4
 },
 "nbformat": 4,
 "nbformat_minor": 2
}
