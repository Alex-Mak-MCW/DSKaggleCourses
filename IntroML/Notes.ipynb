{
 "cells": [
  {
   "attachments": {},
   "cell_type": "markdown",
   "metadata": {},
   "source": [
    "# Chapter 1 - How Models work:\n",
    "1. Capturing patterns from data: fitting/ training\n",
    "2. Training Data is always used for fitting a ML model"
   ]
  },
  {
   "attachments": {},
   "cell_type": "markdown",
   "metadata": {},
   "source": [
    "# 1.1 Start with Pandas\n",
    "1. How to import Pandas\n",
    "2. How to read data through data=pd.read_csv(dataPath)\n",
    "3. How to read the summary of data through print(data.describe())"
   ]
  },
  {
   "attachments": {},
   "cell_type": "markdown",
   "metadata": {},
   "source": [
    "# Exercise 1, learned:\n",
    "1. How to read/load data\n",
    "2. How to read summary of data\n",
    "3. Review data and obtain parts of data using min/max/mean/std "
   ]
  },
  {
   "attachments": {},
   "cell_type": "markdown",
   "metadata": {},
   "source": [
    "# Chapter 2 - Building ML models\n",
    "\n",
    "1. Select the right parts of data by using data.drop(\"Column Name\") / data.dropna(\"Column Name\")to drop unwanted column and their values\n",
    "* When using drop: drops the row/columns\n",
    "* When using dropna: removes all entities with NaN values\n",
    "2. Choosing prediction target in 2 ways\n",
    "* 1. Dot notation: data.ColumnName\n",
    "* 2. Choosing features: data[Column1, Column2, ....]\n",
    "3. Read the BRIEF summary of data using head()\n",
    "4. Choosing ML Model\n",
    "* 1. import model\n",
    "* 2. define model (ex. model=DecisionTreeRegressor())\n",
    "* 3. Fit the model through model.fit(X,y)\n",
    "*       X=features, y=target\n",
    "* 4. make predictions from model (model.predict(Test_data))\n",
    "5. Specify variable random_state to ensure same results in each run.\n"
   ]
  },
  {
   "attachments": {},
   "cell_type": "markdown",
   "metadata": {},
   "source": [
    "# Exercise 2: Building a ML model, I have learned\n",
    "1. Identify features (X) and predict target (y)\n",
    "* X=data[feature_names_list], feature_names_list=[Column1, Column2, ...]\n",
    "* y=data[Predicted_Variable]\n",
    "2. Build a model through\n",
    "* import --> define --> fit --> predict\n",
    "3. Verify model's predictions with data"
   ]
  },
  {
   "attachments": {},
   "cell_type": "markdown",
   "metadata": {},
   "source": [
    "# Chapter 3 - Model Validation\n",
    "1. Model Validation: evaluate model by checking the TRAINED model's accuracy with TESTING data\n",
    "* Metrics: Mean Absolute Error (MAE), error=actual−predicted\n",
    "* Obtain error by mean_absolute_error(y, model)\n",
    "2. Never use the same data for training and evaluating the same model (aka In-Sample)\n",
    "* Need to create a validation data\n",
    "3. Splitting data using train_test_split\n",
    "* train_X, val_X, train_y, val_y = train_test_split(X, y, random_state = 0)"
   ]
  },
  {
   "attachments": {},
   "cell_type": "markdown",
   "metadata": {},
   "source": [
    "# Exercise 3\n",
    "1. Apply train_test_split to split data into training and testing/validation data\n",
    "2. Specify and fit the model (like exercise 2)\n",
    "3. Make predictions with validation data\n",
    "4. Calculate Mean Absolute Error (MAE) in validation data"
   ]
  }
 ],
 "metadata": {
  "language_info": {
   "name": "python"
  },
  "orig_nbformat": 4
 },
 "nbformat": 4,
 "nbformat_minor": 2
}
