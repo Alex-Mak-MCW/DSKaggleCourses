{
 "cells": [
  {
   "attachments": {},
   "cell_type": "markdown",
   "metadata": {},
   "source": [
    "# Feature Engineering\n",
    "1. Feature Engineering: simply to make your data better suited to the problem at hand\n",
    "2. It can improve a model's performance\n",
    "3. It can reduce computational or data needs\n",
    "4. It can improve interpretability of the results\n",
    "5. Feature is useful when it has a relationship\n",
    "\n",
    "## Mutual Information (MI)\n",
    "1. Building a feature utility metric to find each feature's association with its target\n",
    "2. Finding the mutual dependence of 2 features\n",
    "3. Mutual information is a great general-purpose metric\n",
    "4. Mutual information is easy to use and interpret, efficient, resistant to overfitting \n",
    "5. MI describes relationship in terms of uncertainty (how one feature affect other feature's uncertainty)\n",
    "6. When MI=0, the quanitites are independent\n",
    "7. There is no upperbound in MI\n",
    "8. from sklearn.feature_selection import mutual_info_regression, mutual_info_classif\n",
    "\n",
    "## Creating Features\n",
    "1. Mathematical transformation: making new features based on math from 2 featues (+ or - or * or /)\n",
    "2. Counts from binary or boolean\n",
    "3. Building-Up and Breaking-Down Features with string addition/ string slicing\n",
    "4. Group Transform: transform a value that grouped features together\n",
    "5. Frequency Encoding: "
   ]
  }
 ],
 "metadata": {
  "language_info": {
   "name": "python"
  },
  "orig_nbformat": 4
 },
 "nbformat": 4,
 "nbformat_minor": 2
}
