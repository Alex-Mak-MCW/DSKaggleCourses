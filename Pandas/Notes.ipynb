{
 "cells": [
  {
   "attachments": {},
   "cell_type": "markdown",
   "metadata": {},
   "source": [
    "# Chapter 1: Pandas Basics - Creating, Reading, Writing\n",
    "1. Import panda as pd\n",
    "2. DataFrame: Table\n",
    "* pd.DataFrame({'Column1_Name': [Column Value 1, Value 2, ...]. 'Column2_Name': [value 1, value 2]}, index=['Row1Name','Row2Name', ...])\n",
    "3. Series: one column of a DataFrame, act as a list\n",
    "* pd.series([value1, value2, ...], index=['Row1Name','Row2Name', ...], name='SeriesName')\n",
    "4. Reading data using data=pd.read_csv()\n",
    "5. access data shape with data.shape\n",
    "6. Use data.head() to get the first 5 rows"
   ]
  },
  {
   "attachments": {},
   "cell_type": "markdown",
   "metadata": {},
   "source": [
    "# Exercise 1, learned:\n",
    "1. Build a DataFrame\n",
    "2. Build a series\n",
    "3. Read data from a csv file\n",
    "4. To use an unnamed column of increasing integers as the index, use index=0 as an argument when reading csv\n",
    "5. To save DataFrame to a csv file using pd.DataFrame.to_csv('Path&FileName')"
   ]
  },
  {
   "attachments": {},
   "cell_type": "markdown",
   "metadata": {},
   "source": [
    "# Chapter 2: Indexing, Selecting & Assigning\n",
    "1. Access DataFrame with data.columnName or data['columnName']\n",
    "* Find specific value? do an extra layer of indexing\n",
    "2. Index based selection: use df.iloc[index#] or loc, they are row first, column second\n",
    "* iloc follows python index (starts from 0)\n",
    "* loc can index any stdlib type (strings), but always include upto the last index (ex include 9 when [0,9])\n",
    "3. set_index to set the index of the table\n",
    "4. Conditional select: use == / >= / <= , bind multiple condiitons using & ; use | for or, \n",
    "* isin: whether selected data is in a list of given values (data.column.isin('value1','value2', ...))\n",
    "* isnull or notnull: find null/ not null values\n",
    "5. Assign values: just use = to assign (data.column=...) "
   ]
  },
  {
   "attachments": {},
   "cell_type": "markdown",
   "metadata": {},
   "source": [
    "# Exercise 2, learned how to \n",
    "1. Access column(s) which returns a series object\n",
    "2. Access row(s) (df.iloc[row,col])\n",
    "* Reviews.loc[ListOfRowsWanted,ListOfColumnsWanted]\n",
    "3. Access one/multiple value(s) from table using condition/ index\n",
    "4. Use loc when not numeric, else iloc\n",
    "5. Use condiiton(s) for values"
   ]
  },
  {
   "attachments": {},
   "cell_type": "markdown",
   "metadata": {},
   "source": [
    "# Chapter 3: Summary Functions and Maps\n",
    "1. For data/ data's column: describe(), return high level summary\n",
    "2. mean(), unique(), value_counts(), median()\n",
    "3. Mapping: uses function to bring a set of values to another set of values. 2 ways\n",
    "* Series.map(), ex: map(lambda p: p+/-), apply function in lambdea\n",
    "* .apply(), ex: apply(function_name, axis='columns(transform row) OR index(transform column)'), need to build a function\n",
    "4. Element-wise operation(+,-,*,/), works for numeric and string\n",
    "\n",
    "# Exercise 3, learned how to:\n",
    "1. use summary fucntions (median(), unique(), etc)\n",
    "2. Use map() and apply()\n",
    "3. use idxmax() to locate the index of the maximum value in a column\n",
    "4. count the occurence of string using 'substring' in string\n",
    "## MAKE SURE use apply() when current column is making condiitons based on another column\n"
   ]
  }
 ],
 "metadata": {
  "language_info": {
   "name": "python"
  },
  "orig_nbformat": 4
 },
 "nbformat": 4,
 "nbformat_minor": 2
}
