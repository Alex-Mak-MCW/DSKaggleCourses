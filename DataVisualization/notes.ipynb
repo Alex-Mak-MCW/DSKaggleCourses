{
 "cells": [
  {
   "attachments": {},
   "cell_type": "markdown",
   "metadata": {},
   "source": [
    "# Chapter 1: intro\n",
    "1. Use plt.figure(width, height) from matplotlib to set the width and height of the upcoming figure\n",
    "2. sns.lineplot(data=givenData) to make a line plot\n",
    "3. sns.heatmap(data=givenData, annot=True) to build a heatmap\n",
    "4. annot=True needed to set values in each cell of the heatmap\n",
    "5. TBA"
   ]
  }
 ],
 "metadata": {
  "language_info": {
   "name": "python"
  },
  "orig_nbformat": 4
 },
 "nbformat": 4,
 "nbformat_minor": 2
}
