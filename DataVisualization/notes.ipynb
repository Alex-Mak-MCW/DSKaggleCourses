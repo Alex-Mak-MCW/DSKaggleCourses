{
 "cells": [
  {
   "attachments": {},
   "cell_type": "markdown",
   "metadata": {},
   "source": [
    "# Chapter 1: intro\n",
    "1. Use plt.figure(width, height) from matplotlib to set the width and height of the upcoming figure\n",
    "2. sns.lineplot(data=givenData) to make a line plot\n",
    "3. sns.heatmap(data=givenData, annot=True) to build a heatmap\n",
    "### annot=True needed to set values in each cell of the heatmap\n",
    "4. sns.scatterplot(x=?, y=?) for scatter plot\n",
    "5. sns.regplot(x=?, y=?) for scatter plot with linear regression line\n",
    "6. sns.lmplot(x=?, y=?, data=?) for linear regression line(S)\n",
    "7. sns.swarmplot(x=?, y=?) for categorical scatter plot\n",
    "8. sns.histplot(data=data, x=data[\"column\"], hue=data[\"column\"]) for histogram\n",
    "9. sns.kdeplot(data=data[\"column\"], shade=True) for kernel density estimate (KDE) plot\n",
    "10. sns.jointplit(X=data[\"column\"],y=data[\"column\"], kind=\"kde\") for 2D KDE plot"
   ]
  },
  {
   "attachments": {},
   "cell_type": "markdown",
   "metadata": {},
   "source": [
    "## How to choose different plots\n",
    "### Trend plots\n",
    "1. sns.lineplot(): Line charts are best to show trends over a period of time, and multiple lines can be used to show trends in more than one group\n",
    "### Relationship plots\n",
    "1. sns.barplot(): Bar charts are useful for comparing quantities corresponding to different groups\n",
    "2. sns.heatmap(): Heatmaps can be used to find color-coded patterns in tables of numbers\n",
    "3. sns.scatterplot(): Scatter plots show the relationship between two continuous variables; if color-coded, we can also show the relationship with a third categorical variable.\n",
    "4. sns.regplot(): regression line in the scatter plot makes it easier to see any linear relationship between two variables.\n",
    "5. sns.lmplot(): drawing multiple regression lines, if the scatter plot contains multiple, color-coded groups.\n",
    "6. sns.swarmplot(): Categorical scatter plots show the relationship between a continuous variable and a categorical variable.\n",
    "### Distribution plots\n",
    "1. sns.histplot():  Histograms show the distribution of a single numerical variable.\n",
    "2. sns.kdeplot(): KDE plots (or 2D KDE plots) show an estimated, smooth distribution of a single numerical variable (or two numerical variables).\n",
    "3. sns.joinplot(): This command is useful for simultaneously displaying a 2D KDE plot with the corresponding KDE plots for each individual variable.\n",
    "\n",
    "### Set style for plot\n",
    "1. sns.set_style(\"dark\") for changing theme"
   ]
  }
 ],
 "metadata": {
  "language_info": {
   "name": "python"
  },
  "orig_nbformat": 4
 },
 "nbformat": 4,
 "nbformat_minor": 2
}
